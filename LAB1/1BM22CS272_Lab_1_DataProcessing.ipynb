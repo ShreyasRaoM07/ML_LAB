{
  "nbformat": 4,
  "nbformat_minor": 0,
  "metadata": {
    "colab": {
      "provenance": []
    },
    "kernelspec": {
      "name": "python3",
      "display_name": "Python 3"
    },
    "language_info": {
      "name": "python"
    }
  },
  "cells": [
    {
      "cell_type": "code",
      "execution_count": 3,
      "metadata": {
        "id": "bVk8r2sx-J2b"
      },
      "outputs": [],
      "source": [
        "import pandas as pd\n",
        "import numpy as np\n",
        "import matplotlib.pyplot as plt\n",
        "import seaborn as sns"
      ]
    },
    {
      "cell_type": "code",
      "source": [
        "df= pd.read_csv('/content/Dataset of Diabetes .csv')\n",
        "print(df.head())"
      ],
      "metadata": {
        "colab": {
          "base_uri": "https://localhost:8080/"
        },
        "id": "mSSLBzOFHp99",
        "outputId": "93fe0fab-b13f-4edd-aeac-e201907f94ce"
      },
      "execution_count": 4,
      "outputs": [
        {
          "output_type": "stream",
          "name": "stdout",
          "text": [
            "    ID  No_Pation Gender  AGE  Urea  Cr  HbA1c  Chol   TG  HDL  LDL  VLDL  \\\n",
            "0  502      17975      F   50   4.7  46    4.9   4.2  0.9  2.4  1.4   0.5   \n",
            "1  735      34221      M   26   4.5  62    4.9   3.7  1.4  1.1  2.1   0.6   \n",
            "2  420      47975      F   50   4.7  46    4.9   4.2  0.9  2.4  1.4   0.5   \n",
            "3  680      87656      F   50   4.7  46    4.9   4.2  0.9  2.4  1.4   0.5   \n",
            "4  504      34223      M   33   7.1  46    4.9   4.9  1.0  0.8  2.0   0.4   \n",
            "\n",
            "    BMI CLASS  \n",
            "0  24.0     N  \n",
            "1  23.0     N  \n",
            "2  24.0     N  \n",
            "3  24.0     N  \n",
            "4  21.0     N  \n"
          ]
        }
      ]
    },
    {
      "cell_type": "code",
      "source": [
        "import pandas as pd\n",
        "import numpy as np\n",
        "from sklearn.preprocessing import MinMaxScaler, StandardScaler\n",
        "from sklearn.impute import SimpleImputer\n",
        "from sklearn.preprocessing import LabelEncoder\n",
        "\n",
        "# Load the dataset\n",
        "df = pd.read_csv('/content/Dataset of Diabetes .csv')\n",
        "\n",
        "# Display first few rows\n",
        "print(\"First few rows of the dataset:\")\n",
        "print(df.head())\n",
        "\n",
        "# --- Step 1: Handling Missing Values ---\n",
        "# Check for missing values\n",
        "print(\"\\nMissing values in each column:\")\n",
        "print(df.isnull().sum())\n",
        "\n",
        "# Impute missing values for numerical columns with mean\n",
        "num_columns = df.select_dtypes(include=['float64', 'int64']).columns\n",
        "imputer = SimpleImputer(strategy='mean')\n",
        "df[num_columns] = imputer.fit_transform(df[num_columns])\n",
        "\n",
        "# Impute missing values for categorical columns with the mode\n",
        "cat_columns = df.select_dtypes(include=['object']).columns\n",
        "imputer_cat = SimpleImputer(strategy='most_frequent')\n",
        "df[cat_columns] = imputer_cat.fit_transform(df[cat_columns])\n",
        "\n",
        "# --- Step 2: Handling Categorical Data ---\n",
        "# Encode 'Gender' column using LabelEncoder\n",
        "label_encoder = LabelEncoder()\n",
        "df['Gender'] = label_encoder.fit_transform(df['Gender'])\n",
        "\n",
        "# Encode 'CLASS' column using LabelEncoder (assuming 'N' and 'Y' are the categories)\n",
        "df['CLASS'] = label_encoder.fit_transform(df['CLASS'])\n",
        "\n",
        "# --- Step 3: Handling Outliers ---\n",
        "# Detect and remove outliers using IQR method (Interquartile Range)\n",
        "Q1 = df[num_columns].quantile(0.25)\n",
        "Q3 = df[num_columns].quantile(0.75)\n",
        "IQR = Q3 - Q1\n",
        "\n",
        "# Filter out rows where any of the numerical columns have outliers\n",
        "df_clean = df[~((df[num_columns] < (Q1 - 1.5 * IQR)) | (df[num_columns] > (Q3 + 1.5 * IQR))).any(axis=1)]\n",
        "\n",
        "# --- Step 4: Data Transformations ---\n",
        "# Apply Min-Max Scaler or Standard Scaler\n",
        "scaler_choice = 'minmax'  # Change to 'standard' for StandardScaler\n",
        "\n",
        "if scaler_choice == 'minmax':\n",
        "    scaler = MinMaxScaler()\n",
        "else:\n",
        "    scaler = StandardScaler()\n",
        "\n",
        "# Scale the numerical columns\n",
        "df_scaled = pd.DataFrame(scaler.fit_transform(df_clean[num_columns]), columns=num_columns)\n",
        "\n",
        "# Join the scaled data back with the categorical columns\n",
        "df_final = pd.concat([df_clean[cat_columns], df_scaled], axis=1)\n",
        "\n",
        "# Display the cleaned and scaled data\n",
        "print(\"\\nCleaned and Scaled Data:\")\n",
        "print(df_final.head())\n"
      ],
      "metadata": {
        "colab": {
          "base_uri": "https://localhost:8080/"
        },
        "id": "qdwzjyh1H0ak",
        "outputId": "f305cd88-6205-4d2d-9f6b-c0f121526449"
      },
      "execution_count": 5,
      "outputs": [
        {
          "output_type": "stream",
          "name": "stdout",
          "text": [
            "First few rows of the dataset:\n",
            "    ID  No_Pation Gender  AGE  Urea  Cr  HbA1c  Chol   TG  HDL  LDL  VLDL  \\\n",
            "0  502      17975      F   50   4.7  46    4.9   4.2  0.9  2.4  1.4   0.5   \n",
            "1  735      34221      M   26   4.5  62    4.9   3.7  1.4  1.1  2.1   0.6   \n",
            "2  420      47975      F   50   4.7  46    4.9   4.2  0.9  2.4  1.4   0.5   \n",
            "3  680      87656      F   50   4.7  46    4.9   4.2  0.9  2.4  1.4   0.5   \n",
            "4  504      34223      M   33   7.1  46    4.9   4.9  1.0  0.8  2.0   0.4   \n",
            "\n",
            "    BMI CLASS  \n",
            "0  24.0     N  \n",
            "1  23.0     N  \n",
            "2  24.0     N  \n",
            "3  24.0     N  \n",
            "4  21.0     N  \n",
            "\n",
            "Missing values in each column:\n",
            "ID           0\n",
            "No_Pation    0\n",
            "Gender       0\n",
            "AGE          0\n",
            "Urea         0\n",
            "Cr           0\n",
            "HbA1c        0\n",
            "Chol         0\n",
            "TG           0\n",
            "HDL          0\n",
            "LDL          0\n",
            "VLDL         0\n",
            "BMI          0\n",
            "CLASS        0\n",
            "dtype: int64\n",
            "\n",
            "Cleaned and Scaled Data:\n",
            "    Gender  CLASS        ID  No_Pation       AGE      Urea        Cr  \\\n",
            "5      0.0    0.0  0.706767   0.451762  0.354839  0.578947  0.619048   \n",
            "6      0.0    0.0  0.744361   0.451775  0.354839  0.631579  0.369048   \n",
            "7      1.0    0.0  0.911028   0.451788  0.322581  0.144737  0.071429   \n",
            "13     0.0    0.0  0.130326   0.451881  0.161290  0.421053  0.321429   \n",
            "14     0.0    0.0  0.170426   0.451894  0.290323  0.842105  0.714286   \n",
            "\n",
            "       HbA1c      Chol        TG       HDL       LDL      VLDL   BMI  \n",
            "5   0.230769  0.271186  0.170213  0.400000  0.306122  0.190476  0.10  \n",
            "6   0.261538  0.559322  0.106383  0.466667  0.714286  0.095238  0.10  \n",
            "7   0.161538  0.508475  0.212766  0.533333  0.551020  0.238095  0.25  \n",
            "13  0.153846  0.610169  0.234043  0.666667  0.612245  0.238095  0.15  \n",
            "14  0.261538  0.203390  0.319149  0.800000  0.061224  0.333333  0.20  \n"
          ]
        }
      ]
    },
    {
      "cell_type": "code",
      "source": [
        "import kagglehub\n",
        "\n",
        "# Download latest version\n",
        "path = kagglehub.dataset_download(\"wenruliu/adult-income-dataset\")\n",
        "\n",
        "print(\"Path to dataset files:\", path)"
      ],
      "metadata": {
        "colab": {
          "base_uri": "https://localhost:8080/"
        },
        "id": "isvlF9at5W4-",
        "outputId": "4811d346-995e-4f48-c1bf-e26ce69ea3a2"
      },
      "execution_count": 2,
      "outputs": [
        {
          "output_type": "stream",
          "name": "stdout",
          "text": [
            "Downloading from https://www.kaggle.com/api/v1/datasets/download/wenruliu/adult-income-dataset?dataset_version_number=2...\n"
          ]
        },
        {
          "output_type": "stream",
          "name": "stderr",
          "text": [
            "100%|██████████| 652k/652k [00:00<00:00, 66.5MB/s]"
          ]
        },
        {
          "output_type": "stream",
          "name": "stdout",
          "text": [
            "Extracting files...\n",
            "Path to dataset files: /root/.cache/kagglehub/datasets/wenruliu/adult-income-dataset/versions/2\n"
          ]
        },
        {
          "output_type": "stream",
          "name": "stderr",
          "text": [
            "\n"
          ]
        }
      ]
    },
    {
      "cell_type": "code",
      "source": [
        "import pandas as pd\n",
        "import numpy as np\n",
        "import kagglehub\n",
        "from sklearn.preprocessing import MinMaxScaler, StandardScaler, LabelEncoder\n",
        "from sklearn.impute import SimpleImputer\n",
        "\n",
        "# Download latest dataset\n",
        "path = kagglehub.dataset_download(\"wenruliu/adult-income-dataset\")\n",
        "\n",
        "# Load the dataset\n",
        "df = pd.read_csv(f\"{path}/adult.csv\")\n",
        "\n",
        "# Display first few rows\n",
        "print(\"First few rows of the dataset:\")\n",
        "print(df.head())\n",
        "\n",
        "# --- Step 1: Handling Missing Values ---\n",
        "print(\"\\nMissing values in each column:\")\n",
        "print(df.isnull().sum())\n",
        "\n",
        "# Impute missing values for numerical columns with mean\n",
        "num_columns = df.select_dtypes(include=['float64', 'int64']).columns\n",
        "imputer = SimpleImputer(strategy='mean')\n",
        "df[num_columns] = imputer.fit_transform(df[num_columns])\n",
        "\n",
        "# Impute missing values for categorical columns with the mode\n",
        "cat_columns = df.select_dtypes(include=['object']).columns\n",
        "imputer_cat = SimpleImputer(strategy='most_frequent')\n",
        "df[cat_columns] = imputer_cat.fit_transform(df[cat_columns])\n",
        "\n",
        "# --- Step 2: Handling Categorical Data ---\n",
        "label_encoder = LabelEncoder()\n",
        "for col in cat_columns:\n",
        "    df[col] = label_encoder.fit_transform(df[col])\n",
        "\n",
        "# --- Step 3: Handling Outliers ---\n",
        "Q1 = df[num_columns].quantile(0.25)\n",
        "Q3 = df[num_columns].quantile(0.75)\n",
        "IQR = Q3 - Q1\n",
        "\n",
        "df_clean = df[~((df[num_columns] < (Q1 - 1.5 * IQR)) | (df[num_columns] > (Q3 + 1.5 * IQR))).any(axis=1)]\n",
        "\n",
        "# --- Step 4: Data Transformations ---\n",
        "scaler_choice = 'minmax'  # Change to 'standard' for StandardScaler\n",
        "\n",
        "scaler = MinMaxScaler() if scaler_choice == 'minmax' else StandardScaler()\n",
        "df_scaled = pd.DataFrame(scaler.fit_transform(df_clean[num_columns]), columns=num_columns)\n",
        "\n",
        "df_final = pd.concat([df_clean[cat_columns], df_scaled], axis=1)\n",
        "\n",
        "print(\"\\nCleaned and Scaled Data:\")\n",
        "print(df_final.head())\n"
      ],
      "metadata": {
        "colab": {
          "base_uri": "https://localhost:8080/"
        },
        "id": "sXtQOkdB5bPC",
        "outputId": "a219e563-1f89-4183-94d9-01a8341f410b"
      },
      "execution_count": 6,
      "outputs": [
        {
          "output_type": "stream",
          "name": "stdout",
          "text": [
            "First few rows of the dataset:\n",
            "   age  workclass  fnlwgt     education  educational-num      marital-status  \\\n",
            "0   25    Private  226802          11th                7       Never-married   \n",
            "1   38    Private   89814       HS-grad                9  Married-civ-spouse   \n",
            "2   28  Local-gov  336951    Assoc-acdm               12  Married-civ-spouse   \n",
            "3   44    Private  160323  Some-college               10  Married-civ-spouse   \n",
            "4   18          ?  103497  Some-college               10       Never-married   \n",
            "\n",
            "          occupation relationship   race  gender  capital-gain  capital-loss  \\\n",
            "0  Machine-op-inspct    Own-child  Black    Male             0             0   \n",
            "1    Farming-fishing      Husband  White    Male             0             0   \n",
            "2    Protective-serv      Husband  White    Male             0             0   \n",
            "3  Machine-op-inspct      Husband  Black    Male          7688             0   \n",
            "4                  ?    Own-child  White  Female             0             0   \n",
            "\n",
            "   hours-per-week native-country income  \n",
            "0              40  United-States  <=50K  \n",
            "1              50  United-States  <=50K  \n",
            "2              40  United-States   >50K  \n",
            "3              40  United-States   >50K  \n",
            "4              30  United-States  <=50K  \n",
            "\n",
            "Missing values in each column:\n",
            "age                0\n",
            "workclass          0\n",
            "fnlwgt             0\n",
            "education          0\n",
            "educational-num    0\n",
            "marital-status     0\n",
            "occupation         0\n",
            "relationship       0\n",
            "race               0\n",
            "gender             0\n",
            "capital-gain       0\n",
            "capital-loss       0\n",
            "hours-per-week     0\n",
            "native-country     0\n",
            "income             0\n",
            "dtype: int64\n",
            "\n",
            "Cleaned and Scaled Data:\n",
            "   workclass  education  marital-status  occupation  relationship  race  \\\n",
            "0        4.0        1.0             4.0         7.0           3.0   2.0   \n",
            "1        4.0       11.0             2.0         5.0           0.0   4.0   \n",
            "2        2.0        7.0             2.0        11.0           0.0   4.0   \n",
            "6        0.0       11.0             4.0         0.0           4.0   2.0   \n",
            "8        4.0       15.0             4.0         8.0           4.0   4.0   \n",
            "\n",
            "   gender  native-country  income       age    fnlwgt  educational-num  \\\n",
            "0     1.0            39.0     0.0  0.131148  0.527441         0.181818   \n",
            "1     1.0            39.0     0.0  0.344262  0.188277         0.363636   \n",
            "2     1.0            39.0     1.0  0.180328  0.800155         0.636364   \n",
            "6     1.0            39.0     0.0  0.147541  0.169156         0.363636   \n",
            "8     0.0            39.0     0.0  0.426230  0.823028         0.818182   \n",
            "\n",
            "   capital-gain  capital-loss  hours-per-week  \n",
            "0           0.0           0.0        0.368421  \n",
            "1           0.0           0.0        0.894737  \n",
            "2           0.0           0.0        0.368421  \n",
            "6           0.0           0.0        0.315789  \n",
            "8           0.0           0.0        0.894737  \n"
          ]
        }
      ]
    }
  ]
}